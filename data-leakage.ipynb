{
 "cells": [
  {
   "cell_type": "markdown",
   "metadata": {
    "papermill": {
     "duration": 0.0081,
     "end_time": "2021-09-13T20:09:43.745123",
     "exception": false,
     "start_time": "2021-09-13T20:09:43.737023",
     "status": "completed"
    },
    "tags": []
   },
   "source": [
    "# LIVE 04 - Modelos na vida real\n",
    "\n",
    "Esse tutorial original foi feito pela GRANDE Alexis Cook (que muito me ensinou nos Nanodegrees da Udacity). Traduzi grande parte e mudei algumas coisas, mas a linha geral se manteve.\n",
    "\n",
    "O original está aqui: https://www.kaggle.com/alexisbcook/data-leakage\n",
    "\n",
    "Neste tutorial você vai aprender o que é **data leakage** e como evitá-lo! Na nossa aula vimos as formas mais \"nutella\" de data leakage, que são MUITO importantes, mas geralmente mais fáceis de identificar (mesmo sendo difícil!!)\n",
    "\n",
    "Veremos que mesmo algumas das nossas variáveis utilizadas no modelo preditivo podem trazer informações do futuro!! Esse tipo é o mais difícil de identificar e esperamos que fique mais claro depois da apresentação.\n",
    "\n",
    "\n",
    "# Introdução\n",
    "\n",
    "**Data leakage** acontece quando os dados de treino contém algum tipo de informação sobre a variável dependente (nosso target de predição) que não vai estar disponível quando o modelo começar as predições reais em produção. Isso leva a uma falsa impressão que o modelo tem uma ótima performance, quando, na verdade, ele teve um vazamento de informação que facilita a predição, mas quando chegar na produção.... vai ficar uma porcaria.\n",
    "\n",
    "A Alexis usa uma classificação bem legal de tipos de vazamento de dados: **target leakage** e **contaminação treino-teste.**\n",
    "\n",
    "### Target leakage\n",
    "\n",
    "**Target leakage** acontace quando suas variáveis independentes incluem dados que não vão estar disponíveis na hora em que o modelo vai realizar as predições. Long story short, você tem que analisar se os dados que você usou no treinamento não são uma \"antecipação\" do futuro. Desse modo, é importante pensar nesse tipo de vazamento como algo _cronológico_. \n",
    "\n",
    "Um exemplo pra ver na prática!! Vamos predizer quem vai ter ou não pneumonia a partir dos dados de: idade, peso, homem e tomou antibiotico:\n",
    "\n",
    "| tem_pneumonia | idd |  peso  | homem |     tomou_antibiotico    | ... |\n",
    "|:-------------:|:---:|:------:|:-----:|:------------------------:|-----|\n",
    "|     False     |  65 |   100  | False |           False          | ... |\n",
    "|     False     |  72 |   130  |  True |           False          | ... |\n",
    "|      True     |  58 |   100  | False |           True           | ... |\n",
    "\n",
    "Pessoas tomam antibiótico *DEPOIS* de pegar pneumonia. Os dados brutos mostra uma grande correlação entre as colunas target e tomou_antibiotico, mas essa última normalmente é alterada _DEPOIS_ que a pneumonia é detectada. Aqui está o vazamento!!\n",
    "\n",
    "O modelo, espertão que é, logo vai perceber a correlação e nem vai dar bola pras outras variáveis! Se o cara não tomou antibiótico, não teve pneumonia!!! Seu modelo vai ficar *BALA*, mas é um ledo engano, porque quando você começar a prever os próximos casos, a variável *tomou_antibiotico* não vai estar com os valores setados (ou todos pra false) e você fica na mão.\n",
    "\n",
    "Nesse caso não há cross validation ou hould out que ajude! Os seus dados já estão contaminados!\n",
    "\n",
    "Pra evitar isso, devemos REMOVER as variáveis que são criadas depois do momento de predição:\n",
    "\n",
    "![tut7_leakydata](https://i.imgur.com/y7hfTYe.png)"
   ]
  },
  {
   "cell_type": "markdown",
   "metadata": {
    "papermill": {
     "duration": 0.006909,
     "end_time": "2021-09-13T20:09:43.759645",
     "exception": false,
     "start_time": "2021-09-13T20:09:43.752736",
     "status": "completed"
    },
    "tags": []
   },
   "source": [
    "### Contaminação Treino-Teste (validação)\n",
    "\n",
    "Esse é o caso que vimos na aula! No pré-processamento devemos tomar o cuidado de separar os dados *ANTES* para não haver esse tipo de contaminação!\n",
    "\n",
    "Em termos práticos, temos que fazer a separação antes! No scikit learn tem o conhecido [`train_test_split()`](https://scikit-learn.org/stable/modules/generated/sklearn.model_selection.train_test_split.html) que já faz isso pra gente!\n",
    "\n",
    "Lembrando que, a partir dessa separação, vamos usar a parte de treino + cross validation e deixar o teste *PRA LÁ*!\n",
    "\n",
    "\n",
    "# Exemplo\n",
    "\n",
    "Nesse exemplo, vamos aprender a identificar e remover as variáveis que possam ter vazamento para a variável dependente (target leakage).\n",
    "\n",
    "Vamos usar uma base de dados de aplicações de cartão de crédito. Vamos tentar prever se as aplicações para cartões de crédito feito pelas pessoas foi aceito pela instituição financeira ou não (risco de crédito)! Veremos se pode haver alguma variável independente que tenha informações da variável que queremos prever."
   ]
  },
  {
   "cell_type": "code",
   "execution_count": 1,
   "metadata": {
    "_kg_hide-input": true,
    "papermill": {
     "duration": 0.102327,
     "end_time": "2021-09-13T20:09:43.869203",
     "exception": false,
     "start_time": "2021-09-13T20:09:43.766876",
     "status": "completed"
    },
    "tags": []
   },
   "outputs": [
    {
     "data": {
      "text/html": [
       "<div>\n",
       "<style scoped>\n",
       "    .dataframe tbody tr th:only-of-type {\n",
       "        vertical-align: middle;\n",
       "    }\n",
       "\n",
       "    .dataframe tbody tr th {\n",
       "        vertical-align: top;\n",
       "    }\n",
       "\n",
       "    .dataframe thead th {\n",
       "        text-align: right;\n",
       "    }\n",
       "</style>\n",
       "<table border=\"1\" class=\"dataframe\">\n",
       "  <thead>\n",
       "    <tr style=\"text-align: right;\">\n",
       "      <th></th>\n",
       "      <th>card</th>\n",
       "      <th>reports</th>\n",
       "      <th>age</th>\n",
       "      <th>income</th>\n",
       "      <th>share</th>\n",
       "      <th>expenditure</th>\n",
       "      <th>owner</th>\n",
       "      <th>selfemp</th>\n",
       "      <th>dependents</th>\n",
       "      <th>months</th>\n",
       "      <th>majorcards</th>\n",
       "      <th>active</th>\n",
       "    </tr>\n",
       "  </thead>\n",
       "  <tbody>\n",
       "    <tr>\n",
       "      <th>0</th>\n",
       "      <td>True</td>\n",
       "      <td>0</td>\n",
       "      <td>37.66667</td>\n",
       "      <td>4.5200</td>\n",
       "      <td>0.033270</td>\n",
       "      <td>124.983300</td>\n",
       "      <td>True</td>\n",
       "      <td>False</td>\n",
       "      <td>3</td>\n",
       "      <td>54</td>\n",
       "      <td>1</td>\n",
       "      <td>12</td>\n",
       "    </tr>\n",
       "    <tr>\n",
       "      <th>1</th>\n",
       "      <td>True</td>\n",
       "      <td>0</td>\n",
       "      <td>33.25000</td>\n",
       "      <td>2.4200</td>\n",
       "      <td>0.005217</td>\n",
       "      <td>9.854167</td>\n",
       "      <td>False</td>\n",
       "      <td>False</td>\n",
       "      <td>3</td>\n",
       "      <td>34</td>\n",
       "      <td>1</td>\n",
       "      <td>13</td>\n",
       "    </tr>\n",
       "    <tr>\n",
       "      <th>2</th>\n",
       "      <td>True</td>\n",
       "      <td>0</td>\n",
       "      <td>33.66667</td>\n",
       "      <td>4.5000</td>\n",
       "      <td>0.004156</td>\n",
       "      <td>15.000000</td>\n",
       "      <td>True</td>\n",
       "      <td>False</td>\n",
       "      <td>4</td>\n",
       "      <td>58</td>\n",
       "      <td>1</td>\n",
       "      <td>5</td>\n",
       "    </tr>\n",
       "    <tr>\n",
       "      <th>3</th>\n",
       "      <td>True</td>\n",
       "      <td>0</td>\n",
       "      <td>30.50000</td>\n",
       "      <td>2.5400</td>\n",
       "      <td>0.065214</td>\n",
       "      <td>137.869200</td>\n",
       "      <td>False</td>\n",
       "      <td>False</td>\n",
       "      <td>0</td>\n",
       "      <td>25</td>\n",
       "      <td>1</td>\n",
       "      <td>7</td>\n",
       "    </tr>\n",
       "    <tr>\n",
       "      <th>4</th>\n",
       "      <td>True</td>\n",
       "      <td>0</td>\n",
       "      <td>32.16667</td>\n",
       "      <td>9.7867</td>\n",
       "      <td>0.067051</td>\n",
       "      <td>546.503300</td>\n",
       "      <td>True</td>\n",
       "      <td>False</td>\n",
       "      <td>2</td>\n",
       "      <td>64</td>\n",
       "      <td>1</td>\n",
       "      <td>5</td>\n",
       "    </tr>\n",
       "  </tbody>\n",
       "</table>\n",
       "</div>"
      ],
      "text/plain": [
       "   card  reports       age  income     share  expenditure  owner  selfemp  \\\n",
       "0  True        0  37.66667  4.5200  0.033270   124.983300   True    False   \n",
       "1  True        0  33.25000  2.4200  0.005217     9.854167  False    False   \n",
       "2  True        0  33.66667  4.5000  0.004156    15.000000   True    False   \n",
       "3  True        0  30.50000  2.5400  0.065214   137.869200  False    False   \n",
       "4  True        0  32.16667  9.7867  0.067051   546.503300   True    False   \n",
       "\n",
       "   dependents  months  majorcards  active  \n",
       "0           3      54           1      12  \n",
       "1           3      34           1      13  \n",
       "2           4      58           1       5  \n",
       "3           0      25           1       7  \n",
       "4           2      64           1       5  "
      ]
     },
     "execution_count": 1,
     "metadata": {},
     "output_type": "execute_result"
    }
   ],
   "source": [
    "import warnings\n",
    "warnings.filterwarnings('ignore')\n",
    "import pandas as pd\n",
    "\n",
    "# Ler os dados\n",
    "data = pd.read_csv('./data/AER_credit_card_data.csv', \n",
    "                   true_values = ['yes'], false_values = ['no'])\n",
    "\n",
    "data.head()"
   ]
  },
  {
   "cell_type": "code",
   "execution_count": 2,
   "metadata": {
    "_kg_hide-input": true,
    "papermill": {
     "duration": 0.102327,
     "end_time": "2021-09-13T20:09:43.869203",
     "exception": false,
     "start_time": "2021-09-13T20:09:43.766876",
     "status": "completed"
    },
    "tags": []
   },
   "outputs": [
    {
     "name": "stdout",
     "output_type": "stream",
     "text": [
      "Número de linhas 1319\n"
     ]
    },
    {
     "data": {
      "text/html": [
       "<div>\n",
       "<style scoped>\n",
       "    .dataframe tbody tr th:only-of-type {\n",
       "        vertical-align: middle;\n",
       "    }\n",
       "\n",
       "    .dataframe tbody tr th {\n",
       "        vertical-align: top;\n",
       "    }\n",
       "\n",
       "    .dataframe thead th {\n",
       "        text-align: right;\n",
       "    }\n",
       "</style>\n",
       "<table border=\"1\" class=\"dataframe\">\n",
       "  <thead>\n",
       "    <tr style=\"text-align: right;\">\n",
       "      <th></th>\n",
       "      <th>reports</th>\n",
       "      <th>age</th>\n",
       "      <th>income</th>\n",
       "      <th>share</th>\n",
       "      <th>expenditure</th>\n",
       "      <th>owner</th>\n",
       "      <th>selfemp</th>\n",
       "      <th>dependents</th>\n",
       "      <th>months</th>\n",
       "      <th>majorcards</th>\n",
       "      <th>active</th>\n",
       "    </tr>\n",
       "  </thead>\n",
       "  <tbody>\n",
       "    <tr>\n",
       "      <th>0</th>\n",
       "      <td>0</td>\n",
       "      <td>37.66667</td>\n",
       "      <td>4.5200</td>\n",
       "      <td>0.033270</td>\n",
       "      <td>124.983300</td>\n",
       "      <td>True</td>\n",
       "      <td>False</td>\n",
       "      <td>3</td>\n",
       "      <td>54</td>\n",
       "      <td>1</td>\n",
       "      <td>12</td>\n",
       "    </tr>\n",
       "    <tr>\n",
       "      <th>1</th>\n",
       "      <td>0</td>\n",
       "      <td>33.25000</td>\n",
       "      <td>2.4200</td>\n",
       "      <td>0.005217</td>\n",
       "      <td>9.854167</td>\n",
       "      <td>False</td>\n",
       "      <td>False</td>\n",
       "      <td>3</td>\n",
       "      <td>34</td>\n",
       "      <td>1</td>\n",
       "      <td>13</td>\n",
       "    </tr>\n",
       "    <tr>\n",
       "      <th>2</th>\n",
       "      <td>0</td>\n",
       "      <td>33.66667</td>\n",
       "      <td>4.5000</td>\n",
       "      <td>0.004156</td>\n",
       "      <td>15.000000</td>\n",
       "      <td>True</td>\n",
       "      <td>False</td>\n",
       "      <td>4</td>\n",
       "      <td>58</td>\n",
       "      <td>1</td>\n",
       "      <td>5</td>\n",
       "    </tr>\n",
       "    <tr>\n",
       "      <th>3</th>\n",
       "      <td>0</td>\n",
       "      <td>30.50000</td>\n",
       "      <td>2.5400</td>\n",
       "      <td>0.065214</td>\n",
       "      <td>137.869200</td>\n",
       "      <td>False</td>\n",
       "      <td>False</td>\n",
       "      <td>0</td>\n",
       "      <td>25</td>\n",
       "      <td>1</td>\n",
       "      <td>7</td>\n",
       "    </tr>\n",
       "    <tr>\n",
       "      <th>4</th>\n",
       "      <td>0</td>\n",
       "      <td>32.16667</td>\n",
       "      <td>9.7867</td>\n",
       "      <td>0.067051</td>\n",
       "      <td>546.503300</td>\n",
       "      <td>True</td>\n",
       "      <td>False</td>\n",
       "      <td>2</td>\n",
       "      <td>64</td>\n",
       "      <td>1</td>\n",
       "      <td>5</td>\n",
       "    </tr>\n",
       "  </tbody>\n",
       "</table>\n",
       "</div>"
      ],
      "text/plain": [
       "   reports       age  income     share  expenditure  owner  selfemp  \\\n",
       "0        0  37.66667  4.5200  0.033270   124.983300   True    False   \n",
       "1        0  33.25000  2.4200  0.005217     9.854167  False    False   \n",
       "2        0  33.66667  4.5000  0.004156    15.000000   True    False   \n",
       "3        0  30.50000  2.5400  0.065214   137.869200  False    False   \n",
       "4        0  32.16667  9.7867  0.067051   546.503300   True    False   \n",
       "\n",
       "   dependents  months  majorcards  active  \n",
       "0           3      54           1      12  \n",
       "1           3      34           1      13  \n",
       "2           4      58           1       5  \n",
       "3           0      25           1       7  \n",
       "4           2      64           1       5  "
      ]
     },
     "execution_count": 2,
     "metadata": {},
     "output_type": "execute_result"
    }
   ],
   "source": [
    "# Select target\n",
    "y = data.card\n",
    "\n",
    "# Select predictors\n",
    "X = data.drop(['card'], axis=1)\n",
    "\n",
    "print(f\"Número de linhas {X.shape[0]}\")\n",
    "X.head()"
   ]
  },
  {
   "cell_type": "markdown",
   "metadata": {
    "papermill": {
     "duration": 0.011433,
     "end_time": "2021-09-13T20:09:43.890217",
     "exception": false,
     "start_time": "2021-09-13T20:09:43.878784",
     "status": "completed"
    },
    "tags": []
   },
   "source": [
    "Como temos uma base de dados pequena, vamos usar validação cruzada pra garantir medidas precisas da qualidade do modelo."
   ]
  },
  {
   "cell_type": "code",
   "execution_count": 3,
   "metadata": {
    "papermill": {
     "duration": 2.424327,
     "end_time": "2021-09-13T20:09:46.322891",
     "exception": false,
     "start_time": "2021-09-13T20:09:43.898564",
     "status": "completed"
    },
    "tags": []
   },
   "outputs": [],
   "source": [
    "# Importando pacotes\n",
    "from sklearn.pipeline import make_pipeline\n",
    "from sklearn.ensemble import RandomForestClassifier\n",
    "from sklearn.model_selection import cross_val_score\n",
    "\n",
    "# Como não tem pré-processamento, nem precisa de pipeline, mas vamos manter as boas práticas\n",
    "my_pipeline = make_pipeline(RandomForestClassifier(n_estimators=100))\n",
    "cv_scores = cross_val_score(my_pipeline, X, y, \n",
    "                            cv=5,\n",
    "                            scoring='accuracy')"
   ]
  },
  {
   "cell_type": "code",
   "execution_count": 4,
   "metadata": {
    "execution": {
     "iopub.execute_input": "2021-09-13T20:09:43.913959Z",
     "iopub.status.busy": "2021-09-13T20:09:43.912926Z",
     "iopub.status.idle": "2021-09-13T20:09:46.322744Z",
     "shell.execute_reply": "2021-09-13T20:09:46.322145Z"
    },
    "papermill": {
     "duration": 2.424327,
     "end_time": "2021-09-13T20:09:46.322891",
     "exception": false,
     "start_time": "2021-09-13T20:09:43.898564",
     "status": "completed"
    },
    "tags": []
   },
   "outputs": [
    {
     "name": "stdout",
     "output_type": "stream",
     "text": [
      "Acurácia no Cross-validation: 0.9802915082382764\n"
     ]
    }
   ],
   "source": [
    "print(f\"Acurácia no Cross-validation: {cv_scores.mean()}\")"
   ]
  },
  {
   "cell_type": "markdown",
   "metadata": {
    "papermill": {
     "duration": 0.008211,
     "end_time": "2021-09-13T20:09:46.339709",
     "exception": false,
     "start_time": "2021-09-13T20:09:46.331498",
     "status": "completed"
    },
    "tags": []
   },
   "source": [
    "Ficou bom demais, quando é assim *sempre desconfie*!! O principal erro dos iniciantes é comemorar os resultados, o bom cientista de dados desconfia de tudo!\n",
    "\n",
    "Vamos analisar as variáveis pra ver se existe algum problema!!\n",
    "\n",
    "Uma descrição dos dados:\n",
    "\n",
    " - **`card`**: True se a aplicação do cartão foi aceita, False caso contrário\n",
    " - **`reports`**: Número de relatório depreciativos (tradução literal, quem é de banco aí pra traduzir??)\n",
    " - **`age`**: Idade\n",
    " - **`income`**: Salário anual (dividido por 10k)\n",
    " - **`share`**: Gasto em cartão dividido pelo salário anual (razão gasto cartão/salário)\n",
    " - **`expenditure`**: Gasto médio mensal em cartão de crédito\n",
    " - **`owner`**: True se tem um imóvel, False se aluga\n",
    " - **`selfempl`**: True se tem emprego próprio, False se não\n",
    " - **`dependents`**: Número de dependentes\n",
    " - **`months`**: Meses morando no endereço atual\n",
    " - **`majorcards`**: Quanto cartões possui (dos grandes!)\n",
    " - **`active`**: Número de contas de crédito ativas\n",
    "\n",
    "Algumas variáveis são bem suspeitas!!! Por exemplo, **`expenditure`** (gasto médio mensal), é no cartão atual ou nos utilizados antes da aplicação?\n",
    "\n",
    "Uma comparação entre os dados pode ajudar!"
   ]
  },
  {
   "cell_type": "code",
   "execution_count": 5,
   "metadata": {
    "execution": {
     "iopub.execute_input": "2021-09-13T20:09:46.365061Z",
     "iopub.status.busy": "2021-09-13T20:09:46.363282Z",
     "iopub.status.idle": "2021-09-13T20:09:46.368977Z",
     "shell.execute_reply": "2021-09-13T20:09:46.368186Z"
    },
    "papermill": {
     "duration": 0.020879,
     "end_time": "2021-09-13T20:09:46.369128",
     "exception": false,
     "start_time": "2021-09-13T20:09:46.348249",
     "status": "completed"
    },
    "tags": []
   },
   "outputs": [
    {
     "name": "stdout",
     "output_type": "stream",
     "text": [
      "Fração dos que não receberam cartão e não possuem gastos: 1.00\n",
      "Fração dos que receberam cartão e não possuem gastos: 0.02\n"
     ]
    }
   ],
   "source": [
    "# Gastos de quem possui cartão\n",
    "gastos_possuem_cartao = X.expenditure[y]\n",
    "\n",
    "# Gastos de quem não possui cartão\n",
    "gastos_nao_possuem_cartao = X.expenditure[~y]\n",
    "\n",
    "print('Fração dos que não receberam cartão e não possuem gastos: %.2f' \\\n",
    "      %((gastos_nao_possuem_cartao == 0).mean()))\n",
    "print('Fração dos que receberam cartão e não possuem gastos: %.2f' \\\n",
    "      %(( gastos_possuem_cartao == 0).mean()))"
   ]
  },
  {
   "cell_type": "markdown",
   "metadata": {
    "papermill": {
     "duration": 0.008831,
     "end_time": "2021-09-13T20:09:46.387402",
     "exception": false,
     "start_time": "2021-09-13T20:09:46.378571",
     "status": "completed"
    },
    "tags": []
   },
   "source": [
    "Ou seja, todo mundo que não recebeu o cartão, também não tem gastos! Enquanto somente 2%  dos que receberam o cartão não tem gastos. Assim fica fácil! Se os gastos futuros já estão aqui disponíveis, o modelo que não é bobo nem nada, aprendeu rapidindo e nem olhou pro resto, acerta quase tudo!\n",
    "\n",
    "Como a variável **`share`** também é determinada indiretamente pelos gastos, também deveria ser excluída.\n",
    "\n",
    "As variáveis **`active`** e **`majorcards`** não dão muita certeza, como não temos mais informações, melhor não arriscar e removê-las também. No mundo real nós teríamos que investigar de onde elas surgiram e como foram coletadas!\n",
    "\n",
    "Vamos rodar o modelo de novo sem as variáveis com potencial de vazamento:"
   ]
  },
  {
   "cell_type": "code",
   "execution_count": 6,
   "metadata": {
    "execution": {
     "iopub.execute_input": "2021-09-13T20:09:46.409710Z",
     "iopub.status.busy": "2021-09-13T20:09:46.408652Z",
     "iopub.status.idle": "2021-09-13T20:09:47.859704Z",
     "shell.execute_reply": "2021-09-13T20:09:47.860218Z"
    },
    "papermill": {
     "duration": 1.463844,
     "end_time": "2021-09-13T20:09:47.860401",
     "exception": false,
     "start_time": "2021-09-13T20:09:46.396557",
     "status": "completed"
    },
    "tags": []
   },
   "outputs": [],
   "source": [
    "# Remvoer as variáveis que podem ter vazamento\n",
    "vazamento_potencial = ['expenditure', 'share', 'active', 'majorcards']\n",
    "X2 = X.drop(vazamento_potencial, axis=1)\n",
    "\n",
    "# Evaluate the model with leaky predictors removed\n",
    "cv_scores = cross_val_score(my_pipeline, X2, y, \n",
    "                            cv=5,\n",
    "                            scoring='accuracy')"
   ]
  },
  {
   "cell_type": "code",
   "execution_count": 7,
   "metadata": {
    "execution": {
     "iopub.execute_input": "2021-09-13T20:09:46.409710Z",
     "iopub.status.busy": "2021-09-13T20:09:46.408652Z",
     "iopub.status.idle": "2021-09-13T20:09:47.859704Z",
     "shell.execute_reply": "2021-09-13T20:09:47.860218Z"
    },
    "papermill": {
     "duration": 1.463844,
     "end_time": "2021-09-13T20:09:47.860401",
     "exception": false,
     "start_time": "2021-09-13T20:09:46.396557",
     "status": "completed"
    },
    "tags": []
   },
   "outputs": [
    {
     "name": "stdout",
     "output_type": "stream",
     "text": [
      "Acurácia no Cross-validation: 0.8316856780735108\n"
     ]
    }
   ],
   "source": [
    "print(f\"Acurácia no Cross-validation: {cv_scores.mean()}\")"
   ]
  },
  {
   "cell_type": "markdown",
   "metadata": {
    "papermill": {
     "duration": 0.009089,
     "end_time": "2021-09-13T20:09:47.878879",
     "exception": false,
     "start_time": "2021-09-13T20:09:47.869790",
     "status": "completed"
    },
    "tags": []
   },
   "source": [
    "Não fique triste!! A acurácia não é muito boa, mas é melhor você saber a realidade do modelo do que ser iludido por uma métrica mais bonita, mas que vai falhar miseravelmente em produção! \n",
    "\n",
    "\n",
    "# Conclusão\n",
    "\n",
    "Data leakage pode incorrer em erros multimilionários em aplicações de data science! Cuidado ao separar o treino, validação e teste. Como vimos nesse exemplo, sempre verifique o potencial de ter também target leakage!\n",
    "\n",
    "\n",
    "# A partir daqui?\n",
    "\n",
    "O tutorial da nossa rainha Alexis Cook aponta para um exercício para saber se vocês entenderam o que é data leakage, corram lá pra fazer **[o exercício](https://www.kaggle.com/kernels/fork/3370270)**"
   ]
  }
 ],
 "metadata": {
  "kernelspec": {
   "display_name": "Python 3",
   "language": "python",
   "name": "python3"
  },
  "language_info": {
   "codemirror_mode": {
    "name": "ipython",
    "version": 3
   },
   "file_extension": ".py",
   "mimetype": "text/x-python",
   "name": "python",
   "nbconvert_exporter": "python",
   "pygments_lexer": "ipython3",
   "version": "3.7.6"
  },
  "papermill": {
   "default_parameters": {},
   "duration": 13.831148,
   "end_time": "2021-09-13T20:09:49.011762",
   "environment_variables": {},
   "exception": null,
   "input_path": "__notebook__.ipynb",
   "output_path": "__notebook__.ipynb",
   "parameters": {},
   "start_time": "2021-09-13T20:09:35.180614",
   "version": "2.3.3"
  }
 },
 "nbformat": 4,
 "nbformat_minor": 5
}
